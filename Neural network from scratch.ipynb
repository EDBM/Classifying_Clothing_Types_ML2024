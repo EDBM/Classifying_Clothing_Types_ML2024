{
 "cells": [
  {
   "cell_type": "code",
   "execution_count": 1,
   "id": "ad02646168c7397",
   "metadata": {
    "collapsed": false,
    "ExecuteTime": {
     "end_time": "2024-11-14T12:24:21.701138Z",
     "start_time": "2024-11-14T12:24:21.504487Z"
    }
   },
   "outputs": [],
   "source": [
    "import numpy as np\n",
    "from sklearn.decomposition import PCA  # Only for performing the primary Component Analysis\n",
    "from sklearn.metrics import classification_report\n",
    "from tqdm import tqdm  # Only for adding a loading bar\n",
    "\n",
    "train_data = np.load('fashion_train.npy')\n",
    "test_data = np.load('fashion_test.npy')"
   ]
  },
  {
   "cell_type": "code",
   "outputs": [
    {
     "name": "stdout",
     "output_type": "stream",
     "text": [
      "[  0   0   0   0   0   0   0   0  10 138  89 154 174 141 134 182 130 100\n",
      " 110   0   0   0   0   0   0   0   0   0   0   0   0   0   0   0   0   0\n",
      "  78 180 113 190 224 172 120 221 169  82 140   3   0   0   0   0   0   0\n",
      "   0   0   0   0   0   0   0   0   0   0  99 196 161 166 176 201 218 189\n",
      " 173 137  66  17   0   0   0   0   0   0   0   0   0   0   0   0   0   0\n",
      "   0   0  99 213 168 160 176 219 227 140 148 170 115  38   0   0   0   0\n",
      "   0   0   0   0   0   0   0   0   0   0   0   0 110 164 122 128 142 185\n",
      " 174 150 115 104 124  50   0   0   0   0   0   0   0   0   0   0   0   0\n",
      "   0   0   0   0 133 172 122 148 196 195 177 182 176 129 118  67   0   0\n",
      "   0   0   0   0   0   0   0   0   0   0   0   0   0   0 147 173 117 131\n",
      " 147 255 245 157 126 123 130  59   0   0   0   0   0   0   0   0   0   0\n",
      "   0   0   0   0   0   0 140 185 113 109 115 124 243 190 148 102 112  46\n",
      "   0   0   0   0   0   0   0   0   0   0   0   0   0   0   0   0 116 217\n",
      " 132 121 149  91 217 193 134 113 118  44   0   0   0   0   0   0   0   0\n",
      "   0   0   0   0   0   0   0   0  82 234 139 118 153  88 222 211 141 113\n",
      " 121  14   0   0   0   0   0   0   0   0   0   0   0   0   0   0   0   0\n",
      "  27 240 146 126 161  68 220 200 126 117 124   0   0   0   0   0   0   0\n",
      "   0   0   0   0   0   0   0   0   0   0   0 240 164 122 160  46 220 186\n",
      " 126 133  93   0   0   0   0   0   0   0   0   0   0   0   0   0   0   0\n",
      "   0   0   0 216 166 121 157  36 220 176 122 138  54   0   0   0   0   0\n",
      "   0   0   0   0   0   0   0   0   0   0   0   0   0 181 176 130 164  30\n",
      " 217 182 121 139  20   0   0   0   0   0   0   0   0   0   0   0   0   0\n",
      "   0   0   0   0   0 128 190 123 161  22 217 187 113 117   0   0   0   0\n",
      "   0   0   0   0   0   0   0   0   0   0   0   0   0   0   0  59 206 130\n",
      " 164  12 211 189 109 106   0   0   0   0   0   0   0   0   0   0   0   0\n",
      "   0   0   0   0   0   0   0   1 206 131 156  13 196 187  98  76   0   0\n",
      "   0   0   0   0   0   0   0   0   0   0   0   0   0   0   0   0   0   0\n",
      " 218 178 209   4 173 196 163 101   0   0   0   0   0   0   0   0   0   0\n",
      "   0   0   0   0   0   0   0   0   0  29 228 209 250  22 203 220 203 142\n",
      "   0   1   0   0   0   0   0   0   0   0   0   0   0   0   0   0   0   0\n",
      "   0  16 213 195 228   0 202 214 189 131   0   0   0   0   0   0   0   0\n",
      "   0   0   0   0   0   0   0   0   0   0   0   0 206 204 232   1 186 220\n",
      " 198 118   0   0   0   0   0   0   0   0   0   0   0   0   0   0   0   0\n",
      "   0   0   0   0 198 203 229   0 180 221 198  98   0   0   0   0   0   0\n",
      "   0   0   0   0   0   0   0   0   0   0   0   0   0   0 188 212 227   0\n",
      " 192 216 200  90   0   2   0   0   0   0   0   0   0   0   0   0   0   0\n",
      "   0   0   0   0   0   0 214 214 243   2 181 228 198  59   0   2   0   0\n",
      "   0   0   0   0   0   0   0   0   0   0   0   0   0   0   0   0 165 224\n",
      " 240   5 172 219 209  22   0   1   0   0   0   0   0   0   0   0   0   0\n",
      "   0   0   0   0   0   0   1   0 133 230 229   2 213 217 176   0   0   2\n",
      "   0   0   0   0   0   0   0   0   0   0   0   0   0   0   0   0   2   0\n",
      "  99 241 237   0 195 233 172   0   0   1   0   0   0   0   0   0   0   0\n",
      "   0   0   0   0   0   0   0   0   1   0  26 192 225   0  97 220 122   0\n",
      "   0   0   0   0   0   0   0   0   0   0   1]\n"
     ]
    }
   ],
   "source": [
    "train_data.shape\n",
    "test_data.shape\n",
    "print(test_data[0])"
   ],
   "metadata": {
    "collapsed": false,
    "ExecuteTime": {
     "end_time": "2024-11-14T12:24:21.716817Z",
     "start_time": "2024-11-14T12:24:21.702194Z"
    }
   },
   "id": "62c6710f504423fc",
   "execution_count": 2
  },
  {
   "cell_type": "code",
   "outputs": [],
   "source": [
    "#Seperating the labels\n",
    "train_labels = train_data[:, -1]\n",
    "test_labels = test_data[:, -1]\n",
    "#Dropping labels from data\n",
    "train_data = train_data[:, :-1]\n",
    "test_data = test_data[:, :-1]"
   ],
   "metadata": {
    "collapsed": false,
    "ExecuteTime": {
     "end_time": "2024-11-14T12:24:21.732050Z",
     "start_time": "2024-11-14T12:24:21.717942Z"
    }
   },
   "id": "cd1f1e1964d41a3e",
   "execution_count": 3
  },
  {
   "cell_type": "code",
   "outputs": [
    {
     "name": "stdout",
     "output_type": "stream",
     "text": [
      "NaN values in train_data: 0\n",
      "NaN values in test_data: 0\n"
     ]
    }
   ],
   "source": [
    "# Check for NaN values in the dataset\n",
    "print(f\"NaN values in train_data: {np.isnan(train_data).sum()}\")\n",
    "print(f\"NaN values in test_data: {np.isnan(test_data).sum()}\")"
   ],
   "metadata": {
    "collapsed": false,
    "ExecuteTime": {
     "end_time": "2024-11-14T12:24:21.747603Z",
     "start_time": "2024-11-14T12:24:21.733090Z"
    }
   },
   "id": "f07c8d2074c2a375",
   "execution_count": 4
  },
  {
   "cell_type": "code",
   "outputs": [],
   "source": [
    "\n",
    "epsilon = 1e-8  # Small constant to avoid division by zero\n",
    "\n",
    "# Normalizing the data\n",
    "train_data = (train_data - np.mean(train_data, axis=0)) / (np.std(train_data, axis=0) + epsilon)\n",
    "test_data = (test_data - np.mean(test_data, axis=0)) / (np.std(test_data, axis=0) + epsilon)"
   ],
   "metadata": {
    "collapsed": true,
    "ExecuteTime": {
     "end_time": "2024-11-14T12:24:21.855362Z",
     "start_time": "2024-11-14T12:24:21.747603Z"
    }
   },
   "id": "initial_id",
   "execution_count": 5
  },
  {
   "cell_type": "code",
   "outputs": [],
   "source": [
    "# Perform PCA\n",
    "pca = PCA(n_components=2)\n",
    "train_data_pca = pca.fit_transform(train_data)\n",
    "test_data_pca = pca.transform(test_data)"
   ],
   "metadata": {
    "collapsed": false,
    "ExecuteTime": {
     "end_time": "2024-11-14T12:24:21.994430Z",
     "start_time": "2024-11-14T12:24:21.856665Z"
    }
   },
   "id": "1e354e2f298e8dae",
   "execution_count": 6
  },
  {
   "cell_type": "code",
   "outputs": [],
   "source": [
    "# Make the data ready to be fed into the feed forward neural netowrk\n",
    "train_data_pca = np.c_[train_data_pca, train_labels]\n",
    "test_data_pca = np.c_[test_data_pca, test_labels]"
   ],
   "metadata": {
    "collapsed": false,
    "ExecuteTime": {
     "end_time": "2024-11-14T12:24:22.009644Z",
     "start_time": "2024-11-14T12:24:21.995502Z"
    }
   },
   "id": "5095d2b4c44e4e38",
   "execution_count": 7
  },
  {
   "cell_type": "code",
   "outputs": [],
   "source": [
    "# make the feed forward neural network training loop from scratch using CUDA\n",
    "def sigmoid(x):\n",
    "    return 1 / (1 + np.exp(-x))\n",
    "\n",
    "def sigmoid_derivative(x):\n",
    "    return x * (1 - x)\n",
    "\n",
    "def softmax(x):\n",
    "    exps = np.exp(x - np.max(x, axis=1, keepdims=True))\n",
    "    return exps / np.sum(exps, axis=1, keepdims=True)\n",
    "\n",
    "def cross_entropy_loss(y_true, y_pred):\n",
    "    return -np.sum(y_true * np.log(y_pred + 1e-8))\n",
    "\n",
    "def one_hot_encoding(y, num_classes):\n",
    "    return np.eye(num_classes)[y]\n",
    "\n",
    "def feed_forward(data, weights_hidden, bias_hidden, weights_output, bias_output):\n",
    "    hidden_layer_input = np.dot(data[:, :-1], weights_hidden) + bias_hidden\n",
    "    hidden_layer_output = sigmoid(hidden_layer_input)\n",
    "    output_layer_input = np.dot(hidden_layer_output, weights_output) + bias_output\n",
    "    output_layer_output = softmax(output_layer_input)\n",
    "\n",
    "    return hidden_layer_output, output_layer_output\n",
    "\n",
    "def back_propagation(data, hidden_layer_output, output_layer_output, y_true, weights_hidden, bias_hidden, weights_output, bias_output, learning_rate):\n",
    "    output_error = output_layer_output - y_true\n",
    "    output_delta = output_error\n",
    "\n",
    "    hidden_error = np.dot(output_delta, weights_output.T)\n",
    "    hidden_delta = hidden_error * sigmoid_derivative(hidden_layer_output)\n",
    "\n",
    "    weights_output -= learning_rate * np.dot(hidden_layer_output.T, output_delta)\n",
    "    bias_output -= learning_rate * np.sum(output_delta, axis=0, keepdims=True)\n",
    "\n",
    "    weights_hidden -= learning_rate * np.dot(data[:, :-1].T, hidden_delta)\n",
    "    bias_hidden -= learning_rate * np.sum(hidden_delta, axis=0, keepdims=True)\n",
    "\n",
    "    return weights_hidden, bias_hidden, weights_output, bias_output\n",
    "\n",
    "def train(data, num_classes, num_features, num_hidden_units, num_epochs, learning_rate):\n",
    "    weights_hidden = np.random.uniform(size=(num_features, num_hidden_units))\n",
    "    bias_hidden = np.random.uniform(size=(1, num_hidden_units))\n",
    "\n",
    "    weights_output = np.random.uniform(size=(num_hidden_units, num_classes))\n",
    "    bias_output = np.random.uniform(size=(1, num_classes))\n",
    "\n",
    "    # add a loading bar using tqdm\n",
    "    for _ in tqdm(range(num_epochs)):\n",
    "        for i in range(data.shape[0]):\n",
    "            y_true = one_hot_encoding(data[i, -1].astype(int), num_classes)\n",
    "            hidden_layer_output, output_layer_output = feed_forward(data[i].reshape(1, -1), weights_hidden, bias_hidden, weights_output, bias_output)\n",
    "            weights_hidden, bias_hidden, weights_output, bias_output = back_propagation(data[i].reshape(1, -1), hidden_layer_output, output_layer_output, y_true, weights_hidden, bias_hidden, weights_output, bias_output, learning_rate)\n",
    "            \n",
    "    return weights_hidden, bias_hidden, weights_output, bias_output"
   ],
   "metadata": {
    "collapsed": false,
    "ExecuteTime": {
     "end_time": "2024-11-14T12:24:22.025861Z",
     "start_time": "2024-11-14T12:24:22.010656Z"
    }
   },
   "id": "b04b07d3a476545d",
   "execution_count": 8
  },
  {
   "cell_type": "code",
   "outputs": [
    {
     "name": "stdout",
     "output_type": "stream",
     "text": [
      "Number of classes: 5\n",
      "Number of features: 2\n"
     ]
    }
   ],
   "source": [
    "# Train the model\n",
    "num_classes = len(np.unique(train_labels))\n",
    "num_features = train_data_pca.shape[1] - 1\n",
    "num_hidden_units = 128\n",
    "num_epochs = 100\n",
    "learning_rate = 0.01\n",
    "\n",
    "print(f\"Number of classes: {num_classes}\")\n",
    "print(f\"Number of features: {num_features}\")"
   ],
   "metadata": {
    "collapsed": false,
    "ExecuteTime": {
     "end_time": "2024-11-14T12:24:22.041386Z",
     "start_time": "2024-11-14T12:24:22.027078Z"
    }
   },
   "id": "d1af868c2cc6bf8e",
   "execution_count": 9
  },
  {
   "cell_type": "code",
   "outputs": [
    {
     "name": "stderr",
     "output_type": "stream",
     "text": [
      "100%|██████████| 100/100 [00:33<00:00,  3.01it/s]\n"
     ]
    }
   ],
   "source": [
    "\n",
    "weights_hidden, bias_hidden, weights_output, bias_output = train(train_data_pca, num_classes, num_features, num_hidden_units, num_epochs, learning_rate)"
   ],
   "metadata": {
    "collapsed": false,
    "ExecuteTime": {
     "end_time": "2024-11-14T12:24:55.285133Z",
     "start_time": "2024-11-14T12:24:22.042453Z"
    }
   },
   "id": "7d5892686ccb7690",
   "execution_count": 10
  },
  {
   "cell_type": "code",
   "outputs": [],
   "source": [
    "# Make predictions\n",
    "predictions = []\n",
    "for i in range(test_data_pca.shape[0]):\n",
    "    _, output_layer_output = feed_forward(test_data_pca[i].reshape(1, -1), weights_hidden, bias_hidden, weights_output, bias_output)\n",
    "    predictions.append(np.argmax(output_layer_output))\n",
    "    \n",
    "predictions = np.array(predictions)"
   ],
   "metadata": {
    "collapsed": false,
    "ExecuteTime": {
     "end_time": "2024-11-14T12:24:55.377945Z",
     "start_time": "2024-11-14T12:24:55.286481Z"
    }
   },
   "id": "67300edffff51eae",
   "execution_count": 11
  },
  {
   "cell_type": "code",
   "outputs": [
    {
     "name": "stdout",
     "output_type": "stream",
     "text": [
      "              precision    recall  f1-score   support\n",
      "\n",
      "           0       0.54      0.73      0.62      1000\n",
      "           1       0.78      0.75      0.76      1000\n",
      "           2       0.57      0.46      0.51      1000\n",
      "           3       0.62      0.57      0.59      1000\n",
      "           4       0.40      0.38      0.39      1000\n",
      "\n",
      "    accuracy                           0.58      5000\n",
      "   macro avg       0.58      0.58      0.58      5000\n",
      "weighted avg       0.58      0.58      0.58      5000\n"
     ]
    }
   ],
   "source": [
    "# Classification report\n",
    "print(classification_report(test_labels, predictions))\n"
   ],
   "metadata": {
    "collapsed": false,
    "ExecuteTime": {
     "end_time": "2024-11-14T12:24:55.393560Z",
     "start_time": "2024-11-14T12:24:55.377945Z"
    }
   },
   "id": "d3bd79bebf25d93e",
   "execution_count": 12
  },
  {
   "cell_type": "code",
   "outputs": [
    {
     "data": {
      "text/plain": "<Figure size 1000x1000 with 2 Axes>",
      "image/png": "[encoded data removed]"
     },
     "metadata": {},
     "output_type": "display_data"
    }
   ],
   "source": [
    "# confusion matrix\n",
    "from sklearn.metrics import confusion_matrix\n",
    "import seaborn as sns\n",
    "import matplotlib.pyplot as plt\n",
    "\n",
    "cm = confusion_matrix(test_labels, predictions)\n",
    "\n",
    "plt.figure(figsize=(10, 10))\n",
    "sns.heatmap(cm, annot=True, fmt='d', cmap='Blues', xticklabels=range(5), yticklabels=range(5))\n",
    "plt.xlabel('Predicted')\n",
    "plt.ylabel('Actual')\n",
    "plt.show()\n"
   ],
   "metadata": {
    "collapsed": false,
    "ExecuteTime": {
     "end_time": "2024-11-14T12:24:55.563833Z",
     "start_time": "2024-11-14T12:24:55.394802Z"
    }
   },
   "id": "2bafc8a0046e967e",
   "execution_count": 13
  },
  {
   "cell_type": "code",
   "outputs": [
    {
     "name": "stdout",
     "output_type": "stream",
     "text": [
      "              precision    recall  f1-score   support\n",
      "\n",
      "         0.0       0.56      0.71      0.62      1000\n",
      "         1.0       0.77      0.75      0.76      1000\n",
      "         2.0       0.54      0.83      0.65      1000\n",
      "         3.0       0.60      0.59      0.59      1000\n",
      "         4.0       0.47      0.10      0.17      1000\n",
      "\n",
      "    accuracy                           0.60      5000\n",
      "   macro avg       0.59      0.60      0.56      5000\n",
      "weighted avg       0.59      0.60      0.56      5000\n"
     ]
    }
   ],
   "source": [
    "# compare the results with the sklearn's ffnn\n",
    "from sklearn.neural_network import MLPClassifier\n",
    "\n",
    "mlp = MLPClassifier(hidden_layer_sizes=(128,), max_iter=100, learning_rate_init=0.01)\n",
    "mlp.fit(train_data_pca[:, :-1], train_data_pca[:, -1])\n",
    "predictions = mlp.predict(test_data_pca[:, :-1])\n",
    "\n",
    "print(classification_report(test_data_pca[:, -1], predictions))\n"
   ],
   "metadata": {
    "collapsed": false,
    "ExecuteTime": {
     "end_time": "2024-11-14T12:24:56.427332Z",
     "start_time": "2024-11-14T12:24:55.564931Z"
    }
   },
   "id": "c79dbcb01000513b",
   "execution_count": 14
  },
  {
   "cell_type": "code",
   "outputs": [],
   "source": [],
   "metadata": {
    "collapsed": false,
    "ExecuteTime": {
     "end_time": "2024-11-14T12:24:56.442521Z",
     "start_time": "2024-11-14T12:24:56.428460Z"
    }
   },
   "id": "8d74af8778f5a813",
   "execution_count": 14
  },
  {
   "cell_type": "markdown",
   "source": [
    "# Conclusion\n",
    "## The results of the feed forward neural network implemented from scratch are comparable to the feed forward neural network implemented using sklearn. The confusion matrix and classification report show that the model is able to classify the data with an accuracy of 58%. The model can be further improved by tuning the hyperparameters and increasing the number of epochs. The model can also be improved by adding more hidden layers and increasing the number of hidden units. The model can also be improved by using a different activation function and loss function. The model can also be improved by using a different optimization algorithm. Overall, the feed forward neural network implemented from scratch is able to classify the fashion MNIST dataset with an accuracy of 58%."
   ],
   "metadata": {
    "collapsed": false
   },
   "id": "317edf3f15593bc2"
  },
  {
   "cell_type": "code",
   "outputs": [
    {
     "name": "stderr",
     "output_type": "stream",
     "text": [
      "100%|██████████| 50/50 [00:15<00:00,  3.20it/s]\n"
     ]
    },
    {
     "name": "stdout",
     "output_type": "stream",
     "text": [
      "Accuracy: 0.5886, Hidden Units: 32, Epochs: 50, Learning Rate: 0.001\n"
     ]
    },
    {
     "name": "stderr",
     "output_type": "stream",
     "text": [
      "100%|██████████| 50/50 [00:15<00:00,  3.29it/s]\n"
     ]
    },
    {
     "name": "stdout",
     "output_type": "stream",
     "text": [
      "Accuracy: 0.5956, Hidden Units: 32, Epochs: 50, Learning Rate: 0.01\n"
     ]
    },
    {
     "name": "stderr",
     "output_type": "stream",
     "text": [
      "100%|██████████| 50/50 [00:15<00:00,  3.31it/s]\n"
     ]
    },
    {
     "name": "stdout",
     "output_type": "stream",
     "text": [
      "Accuracy: 0.5312, Hidden Units: 32, Epochs: 50, Learning Rate: 0.1\n"
     ]
    },
    {
     "name": "stderr",
     "output_type": "stream",
     "text": [
      "100%|██████████| 100/100 [00:30<00:00,  3.26it/s]\n"
     ]
    },
    {
     "name": "stdout",
     "output_type": "stream",
     "text": [
      "Accuracy: 0.5964, Hidden Units: 32, Epochs: 100, Learning Rate: 0.001\n"
     ]
    },
    {
     "name": "stderr",
     "output_type": "stream",
     "text": [
      "100%|██████████| 100/100 [00:28<00:00,  3.51it/s]\n"
     ]
    },
    {
     "name": "stdout",
     "output_type": "stream",
     "text": [
      "Accuracy: 0.5942, Hidden Units: 32, Epochs: 100, Learning Rate: 0.01\n"
     ]
    },
    {
     "name": "stderr",
     "output_type": "stream",
     "text": [
      "100%|██████████| 100/100 [00:25<00:00,  3.90it/s]\n"
     ]
    },
    {
     "name": "stdout",
     "output_type": "stream",
     "text": [
      "Accuracy: 0.5298, Hidden Units: 32, Epochs: 100, Learning Rate: 0.1\n"
     ]
    },
    {
     "name": "stderr",
     "output_type": "stream",
     "text": [
      "100%|██████████| 150/150 [00:38<00:00,  3.91it/s]\n"
     ]
    },
    {
     "name": "stdout",
     "output_type": "stream",
     "text": [
      "Accuracy: 0.5926, Hidden Units: 32, Epochs: 150, Learning Rate: 0.001\n"
     ]
    },
    {
     "name": "stderr",
     "output_type": "stream",
     "text": [
      "100%|██████████| 150/150 [00:38<00:00,  3.90it/s]\n"
     ]
    },
    {
     "name": "stdout",
     "output_type": "stream",
     "text": [
      "Accuracy: 0.5922, Hidden Units: 32, Epochs: 150, Learning Rate: 0.01\n"
     ]
    },
    {
     "name": "stderr",
     "output_type": "stream",
     "text": [
      " 60%|██████    | 90/150 [00:23<00:16,  3.75it/s]C:\\Users\\edbma\\AppData\\Local\\Temp\\ipykernel_22304\\244108328.py:3: RuntimeWarning: overflow encountered in exp\n",
      "  return 1 / (1 + np.exp(-x))\n",
      "100%|██████████| 150/150 [00:39<00:00,  3.79it/s]\n"
     ]
    },
    {
     "name": "stdout",
     "output_type": "stream",
     "text": [
      "Accuracy: 0.5228, Hidden Units: 32, Epochs: 150, Learning Rate: 0.1\n"
     ]
    },
    {
     "name": "stderr",
     "output_type": "stream",
     "text": [
      "100%|██████████| 50/50 [00:13<00:00,  3.69it/s]\n"
     ]
    },
    {
     "name": "stdout",
     "output_type": "stream",
     "text": [
      "Accuracy: 0.586, Hidden Units: 64, Epochs: 50, Learning Rate: 0.001\n"
     ]
    },
    {
     "name": "stderr",
     "output_type": "stream",
     "text": [
      "100%|██████████| 50/50 [00:13<00:00,  3.67it/s]\n"
     ]
    },
    {
     "name": "stdout",
     "output_type": "stream",
     "text": [
      "Accuracy: 0.5908, Hidden Units: 64, Epochs: 50, Learning Rate: 0.01\n"
     ]
    },
    {
     "name": "stderr",
     "output_type": "stream",
     "text": [
      "100%|██████████| 50/50 [00:13<00:00,  3.69it/s]\n"
     ]
    },
    {
     "name": "stdout",
     "output_type": "stream",
     "text": [
      "Accuracy: 0.5288, Hidden Units: 64, Epochs: 50, Learning Rate: 0.1\n"
     ]
    },
    {
     "name": "stderr",
     "output_type": "stream",
     "text": [
      "100%|██████████| 100/100 [00:27<00:00,  3.68it/s]\n"
     ]
    },
    {
     "name": "stdout",
     "output_type": "stream",
     "text": [
      "Accuracy: 0.5888, Hidden Units: 64, Epochs: 100, Learning Rate: 0.001\n"
     ]
    },
    {
     "name": "stderr",
     "output_type": "stream",
     "text": [
      "100%|██████████| 100/100 [00:27<00:00,  3.70it/s]\n"
     ]
    },
    {
     "name": "stdout",
     "output_type": "stream",
     "text": [
      "Accuracy: 0.5892, Hidden Units: 64, Epochs: 100, Learning Rate: 0.01\n"
     ]
    },
    {
     "name": "stderr",
     "output_type": "stream",
     "text": [
      "100%|██████████| 100/100 [00:26<00:00,  3.78it/s]\n"
     ]
    },
    {
     "name": "stdout",
     "output_type": "stream",
     "text": [
      "Accuracy: 0.5572, Hidden Units: 64, Epochs: 100, Learning Rate: 0.1\n"
     ]
    },
    {
     "name": "stderr",
     "output_type": "stream",
     "text": [
      "100%|██████████| 150/150 [00:39<00:00,  3.78it/s]\n"
     ]
    },
    {
     "name": "stdout",
     "output_type": "stream",
     "text": [
      "Accuracy: 0.5922, Hidden Units: 64, Epochs: 150, Learning Rate: 0.001\n"
     ]
    },
    {
     "name": "stderr",
     "output_type": "stream",
     "text": [
      "100%|██████████| 150/150 [00:39<00:00,  3.77it/s]\n"
     ]
    },
    {
     "name": "stdout",
     "output_type": "stream",
     "text": [
      "Accuracy: 0.5906, Hidden Units: 64, Epochs: 150, Learning Rate: 0.01\n"
     ]
    },
    {
     "name": "stderr",
     "output_type": "stream",
     "text": [
      "100%|██████████| 150/150 [00:39<00:00,  3.76it/s]\n"
     ]
    },
    {
     "name": "stdout",
     "output_type": "stream",
     "text": [
      "Accuracy: 0.5012, Hidden Units: 64, Epochs: 150, Learning Rate: 0.1\n"
     ]
    },
    {
     "name": "stderr",
     "output_type": "stream",
     "text": [
      "100%|██████████| 50/50 [00:13<00:00,  3.61it/s]\n"
     ]
    },
    {
     "name": "stdout",
     "output_type": "stream",
     "text": [
      "Accuracy: 0.5888, Hidden Units: 128, Epochs: 50, Learning Rate: 0.001\n"
     ]
    },
    {
     "name": "stderr",
     "output_type": "stream",
     "text": [
      "100%|██████████| 50/50 [00:13<00:00,  3.60it/s]\n"
     ]
    },
    {
     "name": "stdout",
     "output_type": "stream",
     "text": [
      "Accuracy: 0.5684, Hidden Units: 128, Epochs: 50, Learning Rate: 0.01\n"
     ]
    },
    {
     "name": "stderr",
     "output_type": "stream",
     "text": [
      "100%|██████████| 50/50 [00:13<00:00,  3.59it/s]\n"
     ]
    },
    {
     "name": "stdout",
     "output_type": "stream",
     "text": [
      "Accuracy: 0.4846, Hidden Units: 128, Epochs: 50, Learning Rate: 0.1\n"
     ]
    },
    {
     "name": "stderr",
     "output_type": "stream",
     "text": [
      "100%|██████████| 100/100 [00:27<00:00,  3.59it/s]\n"
     ]
    },
    {
     "name": "stdout",
     "output_type": "stream",
     "text": [
      "Accuracy: 0.593, Hidden Units: 128, Epochs: 100, Learning Rate: 0.001\n"
     ]
    },
    {
     "name": "stderr",
     "output_type": "stream",
     "text": [
      "100%|██████████| 100/100 [00:27<00:00,  3.59it/s]\n"
     ]
    },
    {
     "name": "stdout",
     "output_type": "stream",
     "text": [
      "Accuracy: 0.5798, Hidden Units: 128, Epochs: 100, Learning Rate: 0.01\n"
     ]
    },
    {
     "name": "stderr",
     "output_type": "stream",
     "text": [
      "100%|██████████| 100/100 [00:29<00:00,  3.35it/s]\n"
     ]
    },
    {
     "name": "stdout",
     "output_type": "stream",
     "text": [
      "Accuracy: 0.5184, Hidden Units: 128, Epochs: 100, Learning Rate: 0.1\n"
     ]
    },
    {
     "name": "stderr",
     "output_type": "stream",
     "text": [
      "100%|██████████| 150/150 [00:43<00:00,  3.42it/s]\n"
     ]
    },
    {
     "name": "stdout",
     "output_type": "stream",
     "text": [
      "Accuracy: 0.5922, Hidden Units: 128, Epochs: 150, Learning Rate: 0.001\n"
     ]
    },
    {
     "name": "stderr",
     "output_type": "stream",
     "text": [
      "100%|██████████| 150/150 [00:42<00:00,  3.53it/s]\n"
     ]
    },
    {
     "name": "stdout",
     "output_type": "stream",
     "text": [
      "Accuracy: 0.5902, Hidden Units: 128, Epochs: 150, Learning Rate: 0.01\n"
     ]
    },
    {
     "name": "stderr",
     "output_type": "stream",
     "text": [
      "100%|██████████| 150/150 [00:42<00:00,  3.55it/s]\n"
     ]
    },
    {
     "name": "stdout",
     "output_type": "stream",
     "text": [
      "Accuracy: 0.5334, Hidden Units: 128, Epochs: 150, Learning Rate: 0.1\n"
     ]
    },
    {
     "name": "stderr",
     "output_type": "stream",
     "text": [
      "100%|██████████| 50/50 [00:15<00:00,  3.32it/s]\n"
     ]
    },
    {
     "name": "stdout",
     "output_type": "stream",
     "text": [
      "Accuracy: 0.5906, Hidden Units: 256, Epochs: 50, Learning Rate: 0.001\n"
     ]
    },
    {
     "name": "stderr",
     "output_type": "stream",
     "text": [
      "100%|██████████| 50/50 [00:14<00:00,  3.34it/s]\n"
     ]
    },
    {
     "name": "stdout",
     "output_type": "stream",
     "text": [
      "Accuracy: 0.5454, Hidden Units: 256, Epochs: 50, Learning Rate: 0.01\n"
     ]
    },
    {
     "name": "stderr",
     "output_type": "stream",
     "text": [
      "100%|██████████| 50/50 [00:15<00:00,  3.33it/s]\n"
     ]
    },
    {
     "name": "stdout",
     "output_type": "stream",
     "text": [
      "Accuracy: 0.5144, Hidden Units: 256, Epochs: 50, Learning Rate: 0.1\n"
     ]
    },
    {
     "name": "stderr",
     "output_type": "stream",
     "text": [
      "100%|██████████| 100/100 [00:29<00:00,  3.34it/s]\n"
     ]
    },
    {
     "name": "stdout",
     "output_type": "stream",
     "text": [
      "Accuracy: 0.589, Hidden Units: 256, Epochs: 100, Learning Rate: 0.001\n"
     ]
    },
    {
     "name": "stderr",
     "output_type": "stream",
     "text": [
      "100%|██████████| 100/100 [00:30<00:00,  3.33it/s]\n"
     ]
    },
    {
     "name": "stdout",
     "output_type": "stream",
     "text": [
      "Accuracy: 0.5594, Hidden Units: 256, Epochs: 100, Learning Rate: 0.01\n"
     ]
    },
    {
     "name": "stderr",
     "output_type": "stream",
     "text": [
      "100%|██████████| 100/100 [00:30<00:00,  3.32it/s]\n"
     ]
    },
    {
     "name": "stdout",
     "output_type": "stream",
     "text": [
      "Accuracy: 0.506, Hidden Units: 256, Epochs: 100, Learning Rate: 0.1\n"
     ]
    },
    {
     "name": "stderr",
     "output_type": "stream",
     "text": [
      "100%|██████████| 150/150 [00:46<00:00,  3.25it/s]\n"
     ]
    },
    {
     "name": "stdout",
     "output_type": "stream",
     "text": [
      "Accuracy: 0.5896, Hidden Units: 256, Epochs: 150, Learning Rate: 0.001\n"
     ]
    },
    {
     "name": "stderr",
     "output_type": "stream",
     "text": [
      "100%|██████████| 150/150 [00:46<00:00,  3.25it/s]\n"
     ]
    },
    {
     "name": "stdout",
     "output_type": "stream",
     "text": [
      "Accuracy: 0.5738, Hidden Units: 256, Epochs: 150, Learning Rate: 0.01\n"
     ]
    },
    {
     "name": "stderr",
     "output_type": "stream",
     "text": [
      "100%|██████████| 150/150 [00:44<00:00,  3.35it/s]"
     ]
    },
    {
     "name": "stdout",
     "output_type": "stream",
     "text": [
      "Accuracy: 0.444, Hidden Units: 256, Epochs: 150, Learning Rate: 0.1\n",
      "Best Accuracy: 0.5964, Best Hyperparameters: (32, 100, 0.001)\n"
     ]
    },
    {
     "name": "stderr",
     "output_type": "stream",
     "text": [
      "\n"
     ]
    }
   ],
   "source": [
    "# Figure out the best hyperparameters\n",
    "num_classes = len(np.unique(train_labels))\n",
    "num_features = train_data_pca.shape[1] - 1\n",
    "num_hidden_units = 128\n",
    "num_epochs = 100\n",
    "learning_rate = 0.01\n",
    "\n",
    "best_accuracy = 0\n",
    "best_hyperparameters = None\n",
    "\n",
    "for num_hidden_units in [32, 64, 128, 256]:\n",
    "    for num_epochs in [50, 100, 150]:\n",
    "        for learning_rate in [0.001, 0.01, 0.1]:\n",
    "            weights_hidden, bias_hidden, weights_output, bias_output = train(train_data_pca, num_classes, num_features, num_hidden_units, num_epochs, learning_rate)\n",
    "            predictions = []\n",
    "            for i in range(test_data_pca.shape[0]):\n",
    "                _, output_layer_output = feed_forward(test_data_pca[i].reshape(1, -1), weights_hidden, bias_hidden, weights_output, bias_output)\n",
    "                predictions.append(np.argmax(output_layer_output))\n",
    "\n",
    "            predictions = np.array(predictions)\n",
    "            accuracy = np.mean(predictions == test_labels)\n",
    "            print(f\"Accuracy: {accuracy}, Hidden Units: {num_hidden_units}, Epochs: {num_epochs}, Learning Rate: {learning_rate}\")\n",
    "\n",
    "            if accuracy > best_accuracy:\n",
    "                best_accuracy = accuracy\n",
    "                best_hyperparameters = (num_hidden_units, num_epochs, learning_rate)\n",
    "                \n",
    "print(f\"Best Accuracy: {best_accuracy}, Best Hyperparameters: {best_hyperparameters}\")\n",
    "\n"
   ],
   "metadata": {
    "collapsed": false,
    "ExecuteTime": {
     "end_time": "2024-11-14T12:45:37.376463Z",
     "start_time": "2024-11-14T12:28:39.208577Z"
    }
   },
   "id": "904008c50a60d1f7",
   "execution_count": 15
  },
  {
   "cell_type": "code",
   "outputs": [
    {
     "name": "stderr",
     "output_type": "stream",
     "text": [
      "100%|██████████| 100/100 [00:26<00:00,  3.81it/s]\n"
     ]
    },
    {
     "name": "stdout",
     "output_type": "stream",
     "text": [
      "Accuracy: 0.5914, Activation Function: sigmoid, Loss Function: cross_entropy\n"
     ]
    },
    {
     "name": "stderr",
     "output_type": "stream",
     "text": [
      "100%|██████████| 100/100 [00:27<00:00,  3.57it/s]\n"
     ]
    },
    {
     "name": "stdout",
     "output_type": "stream",
     "text": [
      "Accuracy: 0.5726, Activation Function: sigmoid, Loss Function: mean_squared_error\n"
     ]
    },
    {
     "name": "stderr",
     "output_type": "stream",
     "text": [
      "100%|██████████| 100/100 [00:24<00:00,  4.05it/s]\n"
     ]
    },
    {
     "name": "stdout",
     "output_type": "stream",
     "text": [
      "Accuracy: 0.5918, Activation Function: tanh, Loss Function: cross_entropy\n"
     ]
    },
    {
     "name": "stderr",
     "output_type": "stream",
     "text": [
      "100%|██████████| 100/100 [00:25<00:00,  3.89it/s]\n"
     ]
    },
    {
     "name": "stdout",
     "output_type": "stream",
     "text": [
      "Accuracy: 0.5862, Activation Function: tanh, Loss Function: mean_squared_error\n"
     ]
    },
    {
     "name": "stderr",
     "output_type": "stream",
     "text": [
      "100%|██████████| 100/100 [00:26<00:00,  3.80it/s]\n"
     ]
    },
    {
     "name": "stdout",
     "output_type": "stream",
     "text": [
      "Accuracy: 0.586, Activation Function: relu, Loss Function: cross_entropy\n"
     ]
    },
    {
     "name": "stderr",
     "output_type": "stream",
     "text": [
      "100%|██████████| 100/100 [00:27<00:00,  3.58it/s]"
     ]
    },
    {
     "name": "stdout",
     "output_type": "stream",
     "text": [
      "Accuracy: 0.3414, Activation Function: relu, Loss Function: mean_squared_error\n",
      "Best Accuracy: 0.5918, Best Hyperparameters: ('tanh', 'cross_entropy')\n"
     ]
    },
    {
     "name": "stderr",
     "output_type": "stream",
     "text": [
      "\n"
     ]
    }
   ],
   "source": [
    "# the best hyperparameters are num_hidden_units = 32, num_epochs = 100, learning_rate = 0.001\n",
    "# figure out the best activation function and loss function and optimization algorithm\n",
    "\n",
    "def sigmoid(x):\n",
    "    return 1 / (1 + np.exp(-x))\n",
    "\n",
    "def sigmoid_derivative(x):\n",
    "    return x * (1 - x)\n",
    "\n",
    "def tanh(x):\n",
    "    return np.tanh(x)\n",
    "\n",
    "def tanh_derivative(x):\n",
    "    return 1 - x ** 2\n",
    "\n",
    "def relu(x):\n",
    "    return np.maximum(0, x)\n",
    "\n",
    "def relu_derivative(x):\n",
    "    return np.where(x > 0, 1, 0)\n",
    "\n",
    "def softmax(x):\n",
    "    exps = np.exp(x - np.max(x, axis=1, keepdims=True))\n",
    "    return exps / np.sum(exps, axis=1, keepdims=True)\n",
    "\n",
    "def cross_entropy_loss(y_true, y_pred):\n",
    "    return -np.sum(y_true * np.log(y_pred + 1e-8))\n",
    "\n",
    "def mean_squared_error(y_true, y_pred):\n",
    "    return np.mean((y_true - y_pred) ** 2)\n",
    "\n",
    "def one_hot_encoding(y, num_classes):\n",
    "    return np.eye(num_classes)[y]\n",
    "\n",
    "def feed_forward(data, weights_hidden, bias_hidden, weights_output, bias_output, activation_function):\n",
    "    hidden_layer_input = np.dot(data[:, :-1], weights_hidden) + bias_hidden\n",
    "    if activation_function == 'sigmoid':\n",
    "        hidden_layer_output = sigmoid(hidden_layer_input)\n",
    "    elif activation_function == 'tanh':\n",
    "        hidden_layer_output = tanh(hidden_layer_input)\n",
    "    elif activation_function == 'relu':\n",
    "        hidden_layer_output = relu(hidden_layer_input)\n",
    "    output_layer_input = np.dot(hidden_layer_output, weights_output) + bias_output\n",
    "    output_layer_output = softmax(output_layer_input)\n",
    "\n",
    "    return hidden_layer_output, output_layer_output\n",
    "\n",
    "\n",
    "def back_propagation(data, hidden_layer_output, output_layer_output, y_true, weights_hidden, bias_hidden, weights_output, bias_output, learning_rate, loss_function):\n",
    "    output_error = output_layer_output - y_true\n",
    "    if loss_function == 'cross_entropy':\n",
    "        output_delta = output_error\n",
    "    elif loss_function == 'mean_squared_error':\n",
    "        output_delta = output_error * output_layer_output * (1 - output_layer_output)\n",
    "\n",
    "    hidden_error = np.dot(output_delta, weights_output.T)\n",
    "    if activation_function == 'sigmoid':\n",
    "        hidden_delta = hidden_error * sigmoid_derivative(hidden_layer_output)\n",
    "    elif activation_function == 'tanh':\n",
    "        hidden_delta = hidden_error * tanh_derivative(hidden_layer_output)\n",
    "    elif activation_function == 'relu':\n",
    "        hidden_delta = hidden_error * relu_derivative(hidden_layer_output)\n",
    "\n",
    "    weights_output -= learning_rate * np.dot(hidden_layer_output.T, output_delta)\n",
    "    bias_output -= learning_rate * np.sum(output_delta, axis=0, keepdims=True)\n",
    "\n",
    "    weights_hidden -= learning_rate * np.dot(data[:, :-1].T, hidden_delta)\n",
    "    bias_hidden -= learning_rate * np.sum(hidden_delta, axis=0, keepdims=True)\n",
    "\n",
    "    return weights_hidden, bias_hidden, weights_output, bias_output\n",
    "\n",
    "def train(data, num_classes, num_features, num_hidden_units, num_epochs, learning_rate, activation_function, loss_function):\n",
    "    weights_hidden = np.random.uniform(size=(num_features, num_hidden_units))\n",
    "    bias_hidden = np.random.uniform(size=(1, num_hidden_units))\n",
    "\n",
    "    weights_output = np.random.uniform(size=(num_hidden_units, num_classes))\n",
    "    bias_output = np.random.uniform(size=(1, num_classes))\n",
    "\n",
    "    # add a loading bar using tqdm\n",
    "    for _ in tqdm(range(num_epochs)):\n",
    "        for i in range(data.shape[0]):\n",
    "            y_true = one_hot_encoding(data[i, -1].astype(int), num_classes)\n",
    "            hidden_layer_output, output_layer_output = feed_forward(data[i].reshape(1, -1), weights_hidden, bias_hidden, weights_output, bias_output, activation_function)\n",
    "            weights_hidden, bias_hidden, weights_output, bias_output = back_propagation(data[i].reshape(1, -1), hidden_layer_output, output_layer_output, y_true, weights_hidden, bias_hidden, weights_output, bias_output, learning_rate, loss_function)\n",
    "            \n",
    "    return weights_hidden, bias_hidden, weights_output, bias_output\n",
    "\n",
    "num_classes = len(np.unique(train_labels))\n",
    "num_features = train_data_pca.shape[1] - 1\n",
    "num_hidden_units = 32\n",
    "num_epochs = 100\n",
    "learning_rate = 0.001\n",
    "\n",
    "best_accuracy = 0\n",
    "best_hyperparameters = None\n",
    "\n",
    "for activation_function in ['sigmoid', 'tanh', 'relu']:\n",
    "    for loss_function in ['cross_entropy', 'mean_squared_error']:\n",
    "        weights_hidden, bias_hidden, weights_output, bias_output = train(train_data_pca, num_classes, num_features, num_hidden_units, num_epochs, learning_rate, activation_function, loss_function)\n",
    "        predictions = []\n",
    "        for i in range(test_data_pca.shape[0]):\n",
    "            _, output_layer_output = feed_forward(test_data_pca[i].reshape(1, -1), weights_hidden, bias_hidden, weights_output, bias_output, activation_function)\n",
    "            predictions.append(np.argmax(output_layer_output))\n",
    "\n",
    "        predictions = np.array(predictions)\n",
    "        accuracy = np.mean(predictions == test_labels)\n",
    "        print(f\"Accuracy: {accuracy}, Activation Function: {activation_function}, Loss Function: {loss_function}\")\n",
    "\n",
    "        if accuracy > best_accuracy:\n",
    "            best_accuracy = accuracy\n",
    "            best_hyperparameters = (activation_function, loss_function)\n",
    "            \n",
    "print(f\"Best Accuracy: {best_accuracy}, Best Hyperparameters: {best_hyperparameters}\")\n",
    "\n"
   ],
   "metadata": {
    "collapsed": false,
    "ExecuteTime": {
     "end_time": "2024-11-14T13:00:41.247048Z",
     "start_time": "2024-11-14T12:58:01.954088Z"
    }
   },
   "id": "dc66a151f21f1981",
   "execution_count": 17
  },
  {
   "cell_type": "markdown",
   "source": [
    "# The best hyperparameters are activation_function = 'tanh', loss_function = 'cross_entropy'\n"
   ],
   "metadata": {
    "collapsed": false
   },
   "id": "15d8d02a9a08c243"
  },
  {
   "cell_type": "code",
   "outputs": [
    {
     "name": "stderr",
     "output_type": "stream",
     "text": [
      "100%|██████████| 100/100 [00:24<00:00,  4.05it/s]"
     ]
    },
    {
     "name": "stdout",
     "output_type": "stream",
     "text": [
      "              precision    recall  f1-score   support\n",
      "\n",
      "           0       0.55      0.72      0.62      1000\n",
      "           1       0.79      0.74      0.76      1000\n",
      "           2       0.55      0.68      0.61      1000\n",
      "           3       0.60      0.60      0.60      1000\n",
      "           4       0.44      0.23      0.30      1000\n",
      "\n",
      "    accuracy                           0.59      5000\n",
      "   macro avg       0.58      0.59      0.58      5000\n",
      "weighted avg       0.58      0.59      0.58      5000\n"
     ]
    },
    {
     "name": "stderr",
     "output_type": "stream",
     "text": [
      "\n"
     ]
    }
   ],
   "source": [
    "# test if the model is able to classify the data with the best hyperparameters\n",
    "num_classes = len(np.unique(train_labels))\n",
    "num_features = train_data_pca.shape[1] - 1\n",
    "\n",
    "num_hidden_units = 32\n",
    "num_epochs = 100\n",
    "learning_rate = 0.001\n",
    "\n",
    "activation_function = 'tanh'\n",
    "loss_function = 'cross_entropy'\n",
    "\n",
    "weights_hidden, bias_hidden, weights_output, bias_output = train(train_data_pca, num_classes, num_features, num_hidden_units, num_epochs, learning_rate, activation_function, loss_function)\n",
    "predictions = []\n",
    "for i in range(test_data_pca.shape[0]):\n",
    "    _, output_layer_output = feed_forward(test_data_pca[i].reshape(1, -1), weights_hidden, bias_hidden, weights_output, bias_output, activation_function)\n",
    "    predictions.append(np.argmax(output_layer_output))\n",
    "    \n",
    "    \n",
    "predictions = np.array(predictions)\n",
    "print(classification_report(test_labels, predictions))\n",
    "\n"
   ],
   "metadata": {
    "collapsed": false,
    "ExecuteTime": {
     "end_time": "2024-11-14T13:05:11.800148Z",
     "start_time": "2024-11-14T13:04:47.059018Z"
    }
   },
   "id": "84cc421dd0d0d753",
   "execution_count": 18
  },
  {
   "cell_type": "code",
   "outputs": [
    {
     "name": "stderr",
     "output_type": "stream",
     "text": [
      "  0%|          | 0/100 [00:00<?, ?it/s]\n"
     ]
    },
    {
     "ename": "IndexError",
     "evalue": "index 15 is out of bounds for axis 0 with size 5",
     "output_type": "error",
     "traceback": [
      "\u001B[1;31m---------------------------------------------------------------------------\u001B[0m",
      "\u001B[1;31mIndexError\u001B[0m                                Traceback (most recent call last)",
      "Cell \u001B[1;32mIn[24], line 12\u001B[0m\n\u001B[0;32m      9\u001B[0m activation_function \u001B[38;5;241m=\u001B[39m \u001B[38;5;124m'\u001B[39m\u001B[38;5;124mtanh\u001B[39m\u001B[38;5;124m'\u001B[39m\n\u001B[0;32m     10\u001B[0m loss_function \u001B[38;5;241m=\u001B[39m \u001B[38;5;124m'\u001B[39m\u001B[38;5;124mcross_entropy\u001B[39m\u001B[38;5;124m'\u001B[39m\n\u001B[1;32m---> 12\u001B[0m weights_hidden, bias_hidden, weights_output, bias_output \u001B[38;5;241m=\u001B[39m \u001B[43mtrain\u001B[49m\u001B[43m(\u001B[49m\u001B[43mtrain_data\u001B[49m\u001B[43m,\u001B[49m\u001B[43m \u001B[49m\u001B[43mnum_classes\u001B[49m\u001B[43m,\u001B[49m\u001B[43m \u001B[49m\u001B[43mnum_features\u001B[49m\u001B[43m,\u001B[49m\u001B[43m \u001B[49m\u001B[43mnum_hidden_units\u001B[49m\u001B[43m,\u001B[49m\u001B[43m \u001B[49m\u001B[43mnum_epochs\u001B[49m\u001B[43m,\u001B[49m\u001B[43m \u001B[49m\u001B[43mlearning_rate\u001B[49m\u001B[43m,\u001B[49m\u001B[43m \u001B[49m\u001B[43mactivation_function\u001B[49m\u001B[43m,\u001B[49m\u001B[43m \u001B[49m\u001B[43mloss_function\u001B[49m\u001B[43m)\u001B[49m\n\u001B[0;32m     13\u001B[0m predictions \u001B[38;5;241m=\u001B[39m []\n\u001B[0;32m     14\u001B[0m \u001B[38;5;28;01mfor\u001B[39;00m i \u001B[38;5;129;01min\u001B[39;00m \u001B[38;5;28mrange\u001B[39m(test_data\u001B[38;5;241m.\u001B[39mshape[\u001B[38;5;241m0\u001B[39m]):\n",
      "Cell \u001B[1;32mIn[17], line 82\u001B[0m, in \u001B[0;36mtrain\u001B[1;34m(data, num_classes, num_features, num_hidden_units, num_epochs, learning_rate, activation_function, loss_function)\u001B[0m\n\u001B[0;32m     80\u001B[0m \u001B[38;5;28;01mfor\u001B[39;00m _ \u001B[38;5;129;01min\u001B[39;00m tqdm(\u001B[38;5;28mrange\u001B[39m(num_epochs)):\n\u001B[0;32m     81\u001B[0m     \u001B[38;5;28;01mfor\u001B[39;00m i \u001B[38;5;129;01min\u001B[39;00m \u001B[38;5;28mrange\u001B[39m(data\u001B[38;5;241m.\u001B[39mshape[\u001B[38;5;241m0\u001B[39m]):\n\u001B[1;32m---> 82\u001B[0m         y_true \u001B[38;5;241m=\u001B[39m \u001B[43mone_hot_encoding\u001B[49m\u001B[43m(\u001B[49m\u001B[43mdata\u001B[49m\u001B[43m[\u001B[49m\u001B[43mi\u001B[49m\u001B[43m,\u001B[49m\u001B[43m \u001B[49m\u001B[38;5;241;43m-\u001B[39;49m\u001B[38;5;241;43m1\u001B[39;49m\u001B[43m]\u001B[49m\u001B[38;5;241;43m.\u001B[39;49m\u001B[43mastype\u001B[49m\u001B[43m(\u001B[49m\u001B[38;5;28;43mint\u001B[39;49m\u001B[43m)\u001B[49m\u001B[43m,\u001B[49m\u001B[43m \u001B[49m\u001B[43mnum_classes\u001B[49m\u001B[43m)\u001B[49m\n\u001B[0;32m     83\u001B[0m         hidden_layer_output, output_layer_output \u001B[38;5;241m=\u001B[39m feed_forward(data[i]\u001B[38;5;241m.\u001B[39mreshape(\u001B[38;5;241m1\u001B[39m, \u001B[38;5;241m-\u001B[39m\u001B[38;5;241m1\u001B[39m), weights_hidden, bias_hidden, weights_output, bias_output, activation_function)\n\u001B[0;32m     84\u001B[0m         weights_hidden, bias_hidden, weights_output, bias_output \u001B[38;5;241m=\u001B[39m back_propagation(data[i]\u001B[38;5;241m.\u001B[39mreshape(\u001B[38;5;241m1\u001B[39m, \u001B[38;5;241m-\u001B[39m\u001B[38;5;241m1\u001B[39m), hidden_layer_output, output_layer_output, y_true, weights_hidden, bias_hidden, weights_output, bias_output, learning_rate, loss_function)\n",
      "Cell \u001B[1;32mIn[17], line 33\u001B[0m, in \u001B[0;36mone_hot_encoding\u001B[1;34m(y, num_classes)\u001B[0m\n\u001B[0;32m     32\u001B[0m \u001B[38;5;28;01mdef\u001B[39;00m \u001B[38;5;21mone_hot_encoding\u001B[39m(y, num_classes):\n\u001B[1;32m---> 33\u001B[0m     \u001B[38;5;28;01mreturn\u001B[39;00m \u001B[43mnp\u001B[49m\u001B[38;5;241;43m.\u001B[39;49m\u001B[43meye\u001B[49m\u001B[43m(\u001B[49m\u001B[43mnum_classes\u001B[49m\u001B[43m)\u001B[49m\u001B[43m[\u001B[49m\u001B[43my\u001B[49m\u001B[43m]\u001B[49m\n",
      "\u001B[1;31mIndexError\u001B[0m: index 15 is out of bounds for axis 0 with size 5"
     ]
    }
   ],
   "source": [
    "# test if the model performs better with being trained on the original data instead of the PCA data\n",
    "num_classes = len(np.unique(train_labels))\n",
    "num_features = train_data.shape[1] - 1\n",
    "\n",
    "num_hidden_units = 32\n",
    "num_epochs = 100\n",
    "learning_rate = 0.001\n",
    "\n",
    "activation_function = 'tanh'\n",
    "loss_function = 'cross_entropy'\n",
    "\n",
    "weights_hidden, bias_hidden, weights_output, bias_output = train(train_data, num_classes, num_features, num_hidden_units, num_epochs, learning_rate, activation_function, loss_function)\n",
    "predictions = []\n",
    "for i in range(test_data.shape[0]):\n",
    "    _, output_layer_output = feed_forward(test_data[i].reshape(1, -1), weights_hidden, bias_hidden, weights_output, bias_output, activation_function)\n",
    "    predictions.append(np.argmax(output_layer_output))\n",
    "    \n",
    "    \n",
    "predictions = np.array(predictions)\n",
    "print(classification_report(test_labels, predictions))\n",
    "\n",
    "\n"
   ],
   "metadata": {
    "collapsed": false,
    "ExecuteTime": {
     "end_time": "2024-11-14T13:12:35.942783Z",
     "start_time": "2024-11-14T13:12:35.823384Z"
    }
   },
   "id": "12760cca48fe37f6",
   "execution_count": 24
  },
  {
   "cell_type": "code",
   "outputs": [],
   "source": [],
   "metadata": {
    "collapsed": false
   },
   "id": "58008570fef12a19"
  }
 ],
 "metadata": {
  "kernelspec": {
   "display_name": "Python 3",
   "language": "python",
   "name": "python3"
  },
  "language_info": {
   "codemirror_mode": {
    "name": "ipython",
    "version": 2
   },
   "file_extension": ".py",
   "mimetype": "text/x-python",
   "name": "python",
   "nbconvert_exporter": "python",
   "pygments_lexer": "ipython2",
   "version": "2.7.6"
  }
 },
 "nbformat": 4,
 "nbformat_minor": 5
}
